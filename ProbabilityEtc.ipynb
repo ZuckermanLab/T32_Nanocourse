{
  "nbformat": 4,
  "nbformat_minor": 0,
  "metadata": {
    "colab": {
      "name": "ProbabilityEtc.ipynb",
      "provenance": [],
      "include_colab_link": true
    },
    "kernelspec": {
      "name": "python3",
      "display_name": "Python 3"
    },
    "language_info": {
      "name": "python"
    }
  },
  "cells": [
    {
      "cell_type": "markdown",
      "metadata": {
        "id": "view-in-github",
        "colab_type": "text"
      },
      "source": [
        "<a href=\"https://colab.research.google.com/github/ZuckermanLab/T32_Nanocourse/blob/main/ProbabilityEtc.ipynb\" target=\"_parent\"><img src=\"https://colab.research.google.com/assets/colab-badge.svg\" alt=\"Open In Colab\"/></a>"
      ]
    },
    {
      "cell_type": "code",
      "metadata": {
        "colab": {
          "base_uri": "https://localhost:8080/"
        },
        "id": "ooim-BFkrwRZ",
        "outputId": "ff8f62f8-721b-4bea-9acd-fd82254e3351"
      },
      "source": [
        "a = 4\n",
        "b = 5\n",
        "c = 6\n",
        "print(a,b,c)"
      ],
      "execution_count": null,
      "outputs": [
        {
          "output_type": "stream",
          "name": "stdout",
          "text": [
            "4 5 6\n"
          ]
        }
      ]
    },
    {
      "cell_type": "markdown",
      "metadata": {
        "id": "F6nqwry7P77i"
      },
      "source": [
        ""
      ]
    },
    {
      "cell_type": "code",
      "metadata": {
        "colab": {
          "base_uri": "https://localhost:8080/"
        },
        "id": "UUxGydAKtoxc",
        "outputId": "12e8d19f-9e3c-4792-ffcb-bc473ad01595"
      },
      "source": [
        "# do some math\n",
        "f = b * c\n",
        "print(f)"
      ],
      "execution_count": null,
      "outputs": [
        {
          "output_type": "stream",
          "name": "stdout",
          "text": [
            "30\n"
          ]
        }
      ]
    },
    {
      "cell_type": "code",
      "metadata": {
        "colab": {
          "base_uri": "https://localhost:8080/"
        },
        "id": "O0imlMQLsLDJ",
        "outputId": "389eaab9-2c8d-44ec-8d86-3be2aa48488b"
      },
      "source": [
        "print(f\"a = {a}    b = {b}    c = {c}\")  # The f enables printing values within a (quoted) string\n",
        "print(a, \"\\n\", b, \"\\n\", c)  # lots of ways to print things - \"\\n\" is new line 'character'"
      ],
      "execution_count": null,
      "outputs": [
        {
          "output_type": "stream",
          "name": "stdout",
          "text": [
            "a = 4    b = 5    c = 6\n",
            "4 \n",
            " 5 \n",
            " 6\n"
          ]
        }
      ]
    },
    {
      "cell_type": "code",
      "metadata": {
        "id": "OInfWCdAtEc9"
      },
      "source": [
        "a = 7"
      ],
      "execution_count": null,
      "outputs": []
    },
    {
      "cell_type": "code",
      "metadata": {
        "colab": {
          "base_uri": "https://localhost:8080/"
        },
        "id": "D1aguln2tOLZ",
        "outputId": "5eefc96e-8049-4a5e-e742-5bfbf65725ad"
      },
      "source": [
        "# ORDER MATTERS IN PYTHON NOTEBOOKS - BE CAREFUL!\n",
        "print(a)\n",
        "# re-run first definition of a above and print again"
      ],
      "execution_count": null,
      "outputs": [
        {
          "output_type": "stream",
          "name": "stdout",
          "text": [
            "4\n"
          ]
        }
      ]
    },
    {
      "cell_type": "code",
      "metadata": {
        "colab": {
          "base_uri": "https://localhost:8080/"
        },
        "id": "kaYpRO3wvKHH",
        "outputId": "776a94d0-c37d-46f3-9fbc-04d3f0309f79"
      },
      "source": [
        "# LISTS AND LOOPS ARE KEY ELEMENTS OF PYTHON COMPUTING AND DATA ANALYSIS\n",
        "instructors = [\"Olga\", \"Nick\", \"Luke\", \"John\", \"Dan\", \"Jeremy\"]  # a list of strings\n",
        "quant = len(instructors)  # number of elements in the list\n",
        "print(f\"There are {quant} instructors:\")\n",
        "for teacher in instructors:  # The colon \":\" here indicates the following line(s) depend on this line\n",
        "  print(teacher)  # ALL INDENTED LINES DEPEND ON ALL PREVIOUS NON-INDENTED LINES"
      ],
      "execution_count": null,
      "outputs": [
        {
          "output_type": "stream",
          "name": "stdout",
          "text": [
            "There are 6 instructors:\n",
            "Olga\n",
            "Nick\n",
            "Luke\n",
            "John\n",
            "Dan\n",
            "Jeremy\n"
          ]
        }
      ]
    },
    {
      "cell_type": "code",
      "metadata": {
        "colab": {
          "base_uri": "https://localhost:8080/"
        },
        "id": "QFdR2Sfx67VL",
        "outputId": "f351869d-33cd-46c9-fa68-21383c12706f"
      },
      "source": [
        "from random import *  # we often want to use a library of functions that is not part of basic python\n",
        "max = 20\n",
        "rand_list = []  # blank list to start\n",
        "count = 0\n",
        "while (count < max):\n",
        "  count = count + 1\n",
        "  rand_list.append( random() )  # random with empty argument \"()\" gives a number between 0 and 1\n",
        "print(f\"We obtained {len(rand_list)} elements\")\n",
        "print(rand_list)"
      ],
      "execution_count": null,
      "outputs": [
        {
          "output_type": "stream",
          "name": "stdout",
          "text": [
            "We obtained 20 elements\n",
            "[0.647952779256079, 0.8794726324657679, 0.6441389780861981, 0.10949585147956709, 0.4427524915668536, 0.5306515634878576, 0.301193699590496, 0.18520728986763102, 0.7045586730732879, 0.36177800215749256, 0.25060694254164817, 0.4438421639190452, 0.2431633403863973, 0.8397820191263041, 0.9609621204638582, 0.005922235589110314, 0.9216266348276202, 0.32042895624321666, 0.10461361534874003, 0.6209059927212612]\n"
          ]
        }
      ]
    },
    {
      "cell_type": "code",
      "metadata": {
        "colab": {
          "base_uri": "https://localhost:8080/"
        },
        "id": "UfwO94kW-5_z",
        "outputId": "3335fd12-ebeb-4c06-e912-5933121208a9"
      },
      "source": [
        "# Make a new list by doing some math on every element of a list\n",
        "squaredvals = []  # empty list\n",
        "for number in rand_list:\n",
        "  squared = number**2\n",
        "  squaredvals.append( squared )\n",
        "  print(number, squared)   # good to print things to check program is performing correctly"
      ],
      "execution_count": null,
      "outputs": [
        {
          "output_type": "stream",
          "name": "stdout",
          "text": [
            "0.647952779256079 0.419842804145677\n",
            "0.8794726324657679 0.7734721112562677\n",
            "0.6441389780861981 0.4149150230899316\n",
            "0.10949585147956709 0.011989341491235414\n",
            "0.4427524915668536 0.19602976878865677\n",
            "0.5306515634878576 0.28159108183210774\n",
            "0.301193699590496 0.09071764467300997\n",
            "0.18520728986763102 0.0343017402201127\n",
            "0.7045586730732879 0.49640292380279216\n",
            "0.36177800215749256 0.13088332284506668\n",
            "0.25060694254164817 0.06280383965007295\n",
            "0.4438421639190452 0.19699586647234058\n",
            "0.2431633403863973 0.05912841010787092\n",
            "0.8397820191263041 0.7052338396478522\n",
            "0.9609621204638582 0.9234481969663947\n",
            "0.005922235589110314 3.507287437292479e-05\n",
            "0.9216266348276202 0.8493956540236836\n",
            "0.32042895624321666 0.10267471599911726\n",
            "0.10461361534874003 0.010944008516334135\n",
            "0.6209059927212612 0.3855242517971749\n"
          ]
        }
      ]
    },
    {
      "cell_type": "code",
      "metadata": {
        "colab": {
          "base_uri": "https://localhost:8080/"
        },
        "id": "_X9_FOwuvSUF",
        "outputId": "33f09d12-f52f-4dde-870d-d8cda480db03"
      },
      "source": [
        "# NUMERICAL PYTHON - NUMPY\n",
        "# Every mathematical operation has a better implementation in numpy - faster, less memory\n",
        "import numpy as np  # we can make our own abbreviation - np is typical\n",
        "count = 20\n",
        "array_rand = np.random.rand(count)  # a single command accomplishes same as our loop above\n",
        "# Note this is an ARRAY, not a list.  Arrays can be very complex objects - e.g., like matrices.\n",
        "print( array_rand )\n",
        "sq_array = array_rand**2.0  # a single command does the same operation on ALL elements\n",
        "print ( sq_array )"
      ],
      "execution_count": null,
      "outputs": [
        {
          "output_type": "stream",
          "name": "stdout",
          "text": [
            "[0.21982915 0.63107347 0.07664379 0.38494985 0.74813896 0.8769229\n",
            " 0.13280225 0.53016344 0.75628401 0.42007775 0.86285502 0.69032536\n",
            " 0.07255305 0.16658637 0.32574752 0.49440787 0.66354145 0.50925832\n",
            " 0.22512038 0.79296787]\n",
            "[0.04832485 0.39825373 0.00587427 0.14818638 0.5597119  0.76899378\n",
            " 0.01763644 0.28107327 0.5719655  0.17646531 0.74451878 0.4765491\n",
            " 0.00526394 0.02775102 0.10611145 0.24443914 0.44028726 0.25934403\n",
            " 0.05067918 0.62879805]\n"
          ]
        }
      ]
    },
    {
      "cell_type": "code",
      "metadata": {
        "id": "lCKhwJqEBTVF",
        "colab": {
          "base_uri": "https://localhost:8080/"
        },
        "outputId": "d312b0a2-e8ee-494b-bcbf-a6c3954e7747"
      },
      "source": [
        "# turn it into a function\n",
        "def square_this_array( input_array ):\n",
        "  return input_array**2.0\n",
        "print( array_rand )\n",
        "array2 = square_this_array( array_rand )\n",
        "print( array2 )\n"
      ],
      "execution_count": null,
      "outputs": [
        {
          "output_type": "stream",
          "name": "stdout",
          "text": [
            "[0.21982915 0.63107347 0.07664379 0.38494985 0.74813896 0.8769229\n",
            " 0.13280225 0.53016344 0.75628401 0.42007775 0.86285502 0.69032536\n",
            " 0.07255305 0.16658637 0.32574752 0.49440787 0.66354145 0.50925832\n",
            " 0.22512038 0.79296787]\n",
            "[0.04832485 0.39825373 0.00587427 0.14818638 0.5597119  0.76899378\n",
            " 0.01763644 0.28107327 0.5719655  0.17646531 0.74451878 0.4765491\n",
            " 0.00526394 0.02775102 0.10611145 0.24443914 0.44028726 0.25934403\n",
            " 0.05067918 0.62879805]\n"
          ]
        }
      ]
    },
    {
      "cell_type": "markdown",
      "metadata": {
        "id": "qClfrDJn9hj5"
      },
      "source": [
        "NUMBER ONE THING TO KNOW ABOUT PYTHON - \n",
        "WHATEVER YOU WANT TO DO, IT'S SAFE TO ASSUME SOMEONE HAS DONE IT BEFORE ...\n",
        "SO GOOGLE IT.  Finding the precise thing you want may take some rephrasing of your search, or tweaking exisiting code.  But\n",
        "DON'T BE AFRAID TO EXPERIMENT - IT'S JUST CODE!"
      ]
    },
    {
      "cell_type": "code",
      "metadata": {
        "colab": {
          "base_uri": "https://localhost:8080/",
          "height": 265
        },
        "id": "hugdhJcPN1N1",
        "outputId": "783e5c4c-8713-4a67-ee3f-a59c794ff239"
      },
      "source": [
        "# Probability distributions in one dimension (1D)\n",
        "# Bin size matters!!\n",
        "import matplotlib.pyplot as plt\n",
        "u5 = plt.hist(array_rand, bins = 5)\n",
        "u10 = plt.hist(array_rand, bins = 10)"
      ],
      "execution_count": null,
      "outputs": [
        {
          "output_type": "display_data",
          "data": {
            "image/png": "[encoded data removed]",
            "text/plain": [
              "<Figure size 432x288 with 1 Axes>"
            ]
          },
          "metadata": {
            "needs_background": "light"
          }
        }
      ]
    },
    {
      "cell_type": "code",
      "metadata": {
        "colab": {
          "base_uri": "https://localhost:8080/",
          "height": 265
        },
        "id": "zvaW0VqJks8n",
        "outputId": "409348c5-99a0-4140-b4b8-d964c2207860"
      },
      "source": [
        "# Make plots a little easier to understand\n",
        "u5 = plt.hist(array_rand, bins = 5)\n",
        "u10 = plt.hist(array_rand, bins = 10, alpha=0.5)  # alpha is transparency parameter"
      ],
      "execution_count": null,
      "outputs": [
        {
          "output_type": "display_data",
          "data": {
            "image/png": "[encoded data removed]",
            "text/plain": [
              "<Figure size 432x288 with 1 Axes>"
            ]
          },
          "metadata": {
            "needs_background": "light"
          }
        }
      ]
    },
    {
      "cell_type": "code",
      "metadata": {
        "colab": {
          "base_uri": "https://localhost:8080/",
          "height": 265
        },
        "id": "YlDcvrqaQFXy",
        "outputId": "815325ba-fdb0-4055-a03a-c435bb391ff6"
      },
      "source": [
        "# Better use a density!\n",
        "# DEFINE\n",
        "nbin = 5\n",
        "u5_norm = plt.hist(array_rand, bins = nbin, density=True)\n",
        "nbin = 10\n",
        "u10_norm = plt.hist(array_rand, bins = nbin, density=True)\n",
        "plt.show(u5_norm, u10_norm)\n",
        "# How to 'reality check' a density?  Guesstimate the area"
      ],
      "execution_count": null,
      "outputs": [
        {
          "output_type": "display_data",
          "data": {
            "image/png": "[encoded data removed]",
            "text/plain": [
              "<Figure size 432x288 with 1 Axes>"
            ]
          },
          "metadata": {
            "needs_background": "light"
          }
        }
      ]
    },
    {
      "cell_type": "code",
      "metadata": {
        "colab": {
          "base_uri": "https://localhost:8080/",
          "height": 265
        },
        "id": "moH0oFklRJ1G",
        "outputId": "28c6c637-114c-4623-f9d4-4d5af10dfab7"
      },
      "source": [
        "# Noise and sampling - Less data, less idea what's going on\n",
        "# Noisy data could support different hypotheses!\n",
        "# Let's examine effects of having more data\n",
        "def make_array_rand_plot( count ):  # function to make histogram\n",
        "  tmp_array = np.random.rand(count)  # compare to code above\n",
        "  return plt.hist(tmp_array, density=True)\n",
        "unorm_20 = make_array_rand_plot( 20 )\n",
        "unorm_200 = make_array_rand_plot( 200 )\n",
        "unorm_2000 = make_array_rand_plot( 2000 )\n",
        "plt.show()\n",
        "# Run cell multiple times to see range of outcomes (due to random noise)"
      ],
      "execution_count": null,
      "outputs": [
        {
          "output_type": "display_data",
          "data": {
            "image/png": "[encoded data removed]",
            "text/plain": [
              "<Figure size 432x288 with 1 Axes>"
            ]
          },
          "metadata": {
            "needs_background": "light"
          }
        }
      ]
    },
    {
      "cell_type": "markdown",
      "metadata": {
        "id": "2AkbZGBRVuUu"
      },
      "source": [
        ""
      ]
    },
    {
      "cell_type": "code",
      "metadata": {
        "colab": {
          "base_uri": "https://localhost:8080/",
          "height": 265
        },
        "id": "t0h1g9fKUYZu",
        "outputId": "8a5893c4-96d7-4da7-bec9-e7307d1fd922"
      },
      "source": [
        "# The difference between variance and uncertainty\n",
        "# Variance - often measured by standard deviation - tells us the \n",
        "# amount of variability expected among samples from a distribution\n",
        "# (e.g., from repeated runs of an experiment)\n",
        "# Uncertainty, on the other hand, tells us the precision with\n",
        "# which we know a certain value.  If we have made many measurements,\n",
        "# the uncertainty can be *much* smaller than the standard deviation.\n",
        "# How many replicates is enough?  That depends on the question you\n",
        "# want to answer.  For example, it's easy to distinguish the average\n",
        "# height of adults from those of pre-school children, but distinguishing\n",
        "# the average heights of 13 vs. 14-year-olds would require many measurements.\n",
        "mu1 = 10.0\n",
        "sigma1 = 1.0\n",
        "data1 = np.random.randn(1000) * sigma1 + mu1\n",
        "plt.hist(data1, density=True)\n",
        "mu2 = 0.25\n",
        "sigma2 = 0.25\n",
        "data2 = np.random.randn(10) * sigma2 + mu2\n",
        "plt.hist(data2, density=True)\n",
        "plt.show()\n",
        "# We can have a very precise estimate of the mean of a data set with large variance\n",
        "# We might have a poor estimate of the mean of a low-variance data set - 'poor'\n",
        "# in the sense that we cannot be confident the mean is positive in this case."
      ],
      "execution_count": null,
      "outputs": [
        {
          "output_type": "display_data",
          "data": {
            "image/png": "[encoded data removed]",
            "text/plain": [
              "<Figure size 432x288 with 1 Axes>"
            ]
          },
          "metadata": {
            "needs_background": "light"
          }
        }
      ]
    },
    {
      "cell_type": "markdown",
      "metadata": {
        "id": "3LoRHY6qBzLg"
      },
      "source": [
        "# Visualizing distributions"
      ]
    },
    {
      "cell_type": "code",
      "metadata": {
        "id": "u0mbdaH1J-m0"
      },
      "source": [
        "# 2D distributions and visualizations (John)\n",
        "# contour plots, heat maps\n",
        "# comparing 2D densities via heat map"
      ],
      "execution_count": null,
      "outputs": []
    },
    {
      "cell_type": "code",
      "metadata": {
        "id": "PCPSG9hUKOot"
      },
      "source": [
        "# Marginalizing/projecting: 2D -> 1D (John)"
      ],
      "execution_count": null,
      "outputs": []
    },
    {
      "cell_type": "code",
      "metadata": {
        "id": "IXVCedncKY12"
      },
      "source": [
        "# Dimensionality reduction (John)\n",
        "# PCA"
      ],
      "execution_count": null,
      "outputs": []
    },
    {
      "cell_type": "code",
      "metadata": {
        "id": "7DVmvV8jznWM"
      },
      "source": [
        "import numpy as np\n",
        "from  matplotlib import  pyplot as plt"
      ],
      "execution_count": null,
      "outputs": []
    },
    {
      "cell_type": "markdown",
      "metadata": {
        "id": "eP-hp1XAzpOk"
      },
      "source": [
        "## Make some sample data\n",
        "\n",
        "Let's make some sample data, and plot it in a few  different ways."
      ]
    },
    {
      "cell_type": "code",
      "metadata": {
        "id": "SJKQg9pGzqm5"
      },
      "source": [
        "sample_size  = 100000\n",
        "\n",
        "x_data = np.random.normal(loc=5, scale=1, size=sample_size)\n",
        "y_data = np.random.normal(loc=5, scale=.5, size=sample_size)"
      ],
      "execution_count": null,
      "outputs": []
    },
    {
      "cell_type": "code",
      "metadata": {
        "colab": {
          "base_uri": "https://localhost:8080/",
          "height": 287
        },
        "id": "OraWzEa3z2TT",
        "outputId": "615fbfc6-486e-42ea-8c0c-7c177672156d"
      },
      "source": [
        "# First, the scatter plot of course. I set the aspect ratio equal so you can see\n",
        "#   this is an ellipsoidal distribution of data\n",
        "\n",
        "plt.scatter(x_data, y_data)\n",
        "\n",
        "plt.gca().set_aspect('equal')\n",
        "plt.xlim(0, 10)\n",
        "plt.ylim(0, 10)"
      ],
      "execution_count": null,
      "outputs": [
        {
          "output_type": "execute_result",
          "data": {
            "text/plain": [
              "(0.0, 10.0)"
            ]
          },
          "metadata": {},
          "execution_count": 41
        },
        {
          "output_type": "display_data",
          "data": {
            "image/png": "[encoded data removed]",
            "text/plain": [
              "<Figure size 432x288 with 1 Axes>"
            ]
          },
          "metadata": {
            "needs_background": "light"
          }
        }
      ]
    },
    {
      "cell_type": "code",
      "metadata": {
        "colab": {
          "base_uri": "https://localhost:8080/",
          "height": 283
        },
        "id": "H7RuMW2kDRfa",
        "outputId": "9b81dc31-5d15-4d27-97c3-dd6271054ca0"
      },
      "source": [
        "# Because if I don't, the auto-scaling might make you think it's circular!\n",
        "\n",
        "plt.scatter(x_data, y_data)"
      ],
      "execution_count": null,
      "outputs": [
        {
          "output_type": "execute_result",
          "data": {
            "text/plain": [
              "<matplotlib.collections.PathCollection at 0x7f10b7cd1790>"
            ]
          },
          "metadata": {},
          "execution_count": 42
        },
        {
          "output_type": "display_data",
          "data": {
            "image/png": "[encoded data removed]",
            "text/plain": [
              "<Figure size 432x288 with 1 Axes>"
            ]
          },
          "metadata": {
            "needs_background": "light"
          }
        }
      ]
    },
    {
      "cell_type": "code",
      "metadata": {
        "colab": {
          "base_uri": "https://localhost:8080/",
          "height": 287
        },
        "id": "zgDaGAkVz3lP",
        "outputId": "6e634335-f263-4fa5-f11e-1a95ed2fa5f7"
      },
      "source": [
        "# Do a 2-D histogram. Here, try adjusting the number of bins and see how\n",
        "# that affects the resolution of the histogram.\n",
        "\n",
        "#  This returns \n",
        "counts,  x_bins, y_bins, _ = plt.hist2d(x_data, y_data, bins=20)\n",
        "\n",
        "plt.colorbar()\n",
        "plt.gca().set_aspect('equal')\n",
        "plt.xlim(0, 10)\n",
        "plt.ylim(0, 10)"
      ],
      "execution_count": null,
      "outputs": [
        {
          "output_type": "execute_result",
          "data": {
            "text/plain": [
              "(0.0, 10.0)"
            ]
          },
          "metadata": {},
          "execution_count": 43
        },
        {
          "output_type": "display_data",
          "data": {
            "image/png": "[encoded data removed]",
            "text/plain": [
              "<Figure size 432x288 with 2 Axes>"
            ]
          },
          "metadata": {
            "needs_background": "light"
          }
        }
      ]
    },
    {
      "cell_type": "code",
      "metadata": {
        "colab": {
          "base_uri": "https://localhost:8080/",
          "height": 287
        },
        "id": "e5THLqw_0QPL",
        "outputId": "9184b648-728f-495c-9003-19965d02f2bf"
      },
      "source": [
        "# And a contour plot. Here, try playing with the levels the contours are plotted\n",
        "# at, or try omitting that argument entirely.\n",
        "\n",
        "plt.contour(x_bins[:-1], y_bins[:-1], \n",
        "            counts/counts.max(), \n",
        "            levels=[0.05, 0.1, 0.25, 0.68, 0.95, 0.99])\n",
        "\n",
        "plt.colorbar()\n",
        "plt.gca().set_aspect('equal')\n",
        "plt.xlim(0, 10)\n",
        "plt.ylim(0, 10)"
      ],
      "execution_count": null,
      "outputs": [
        {
          "output_type": "execute_result",
          "data": {
            "text/plain": [
              "(0.0, 10.0)"
            ]
          },
          "metadata": {},
          "execution_count": 44
        },
        {
          "output_type": "display_data",
          "data": {
            "image/png": "[encoded data removed]",
            "text/plain": [
              "<Figure size 432x288 with 2 Axes>"
            ]
          },
          "metadata": {
            "needs_background": "light"
          }
        }
      ]
    },
    {
      "cell_type": "markdown",
      "metadata": {
        "id": "UoZ2PrJZB4oP"
      },
      "source": [
        "# PCA Dimensionality reduction"
      ]
    },
    {
      "cell_type": "markdown",
      "metadata": {
        "id": "QQ5Mjn6u2ntH"
      },
      "source": [
        "## Preparing some sample data\n",
        "\n",
        "First, let's generate some data and rotate it.\n",
        "\n",
        "Pay attention to the shape of the data! There are some  subtleties with this that will become important. Right now, it's organized as `[dimension, sample]` -- in other words,  as `[[x_coord_1, x_coord_2, ...], [y_coord_1, y_coord_2, ...]]`, and NOT `[[x_coord_1, y_coord_1], [x_coord_2, y_coord_2], ...]`."
      ]
    },
    {
      "cell_type": "code",
      "metadata": {
        "colab": {
          "base_uri": "https://localhost:8080/"
        },
        "id": "reCfg5km3Cib",
        "outputId": "61cdac21-50f0-442e-eebe-0433810f0301"
      },
      "source": [
        "sample_size = 500\n",
        "\n",
        "x_data = np.random.normal(loc=0, scale=1, size=sample_size)\n",
        "y_data = np.random.normal(loc=0, scale=.5, size=sample_size)\n",
        "\n",
        "data = np.array([x_data, y_data])\n",
        "data.shape"
      ],
      "execution_count": null,
      "outputs": [
        {
          "output_type": "execute_result",
          "data": {
            "text/plain": [
              "(2, 500)"
            ]
          },
          "metadata": {},
          "execution_count": 45
        }
      ]
    },
    {
      "cell_type": "markdown",
      "metadata": {
        "id": "xBaaLVCbHPwf"
      },
      "source": [
        "Quick note:\n",
        "\n",
        "The `*` operator \"unpacks\" an array-like into arguments.\n",
        "\n",
        "So,\n",
        "`plt.scatter(*[[x_coord_1, y_coord_1], [x_coord_2, y_coord_2], ...])` \n",
        " is just like doing \n",
        " `plt.scatter([x_coord_1, y_coord_1], [x_coord_2, y_coord_2], ...)`.\n",
        "You'll see this a lot in the context of matplotlib."
      ]
    },
    {
      "cell_type": "code",
      "metadata": {
        "colab": {
          "base_uri": "https://localhost:8080/",
          "height": 283
        },
        "id": "xAS6w7TZ3x__",
        "outputId": "bd890d59-ce76-40e8-ea1e-c3397853eb31"
      },
      "source": [
        "plt.scatter(*data)\n",
        "\n",
        "plt.gca().set_aspect('equal')\n",
        "plt.xlim(-5, 5)\n",
        "plt.ylim(-5, 5)"
      ],
      "execution_count": null,
      "outputs": [
        {
          "output_type": "execute_result",
          "data": {
            "text/plain": [
              "(-5.0, 5.0)"
            ]
          },
          "metadata": {},
          "execution_count": 46
        },
        {
          "output_type": "display_data",
          "data": {
            "image/png": "[encoded data removed]",
            "text/plain": [
              "<Figure size 432x288 with 1 Axes>"
            ]
          },
          "metadata": {
            "needs_background": "light"
          }
        }
      ]
    },
    {
      "cell_type": "markdown",
      "metadata": {
        "id": "4KwDpIo7HYLj"
      },
      "source": [
        "Now let's rotate that data a little,  and plot that."
      ]
    },
    {
      "cell_type": "code",
      "metadata": {
        "id": "Llf4jTRE3Ei1"
      },
      "source": [
        "# Rotate by Pi/3 radians\n",
        "rotation_radians = np.pi/3\n",
        "\n",
        "# Build a rotation matrix, and use it to rotate our coords about the origin\n",
        "rotation_matrix = np.array([[\n",
        "                            np.cos(rotation_radians), -np.sin(rotation_radians)],\n",
        "                            [np.sin(rotation_radians), np.cos(rotation_radians)]\n",
        "])\n",
        "rotated_data = rotation_matrix @ data"
      ],
      "execution_count": null,
      "outputs": []
    },
    {
      "cell_type": "code",
      "metadata": {
        "colab": {
          "base_uri": "https://localhost:8080/",
          "height": 283
        },
        "id": "iPraEXn93cVt",
        "outputId": "2d526133-3287-4918-f737-0468b1d8b6a6"
      },
      "source": [
        "plt.scatter(*rotated_data)\n",
        "\n",
        "plt.gca().set_aspect('equal')\n",
        "plt.xlim(-5, 5)\n",
        "plt.ylim(-5, 5)"
      ],
      "execution_count": null,
      "outputs": [
        {
          "output_type": "execute_result",
          "data": {
            "text/plain": [
              "(-5.0, 5.0)"
            ]
          },
          "metadata": {},
          "execution_count": 13
        },
        {
          "output_type": "display_data",
          "data": {
            "image/png": "[encoded data removed]",
            "text/plain": [
              "<Figure size 432x288 with 1 Axes>"
            ]
          },
          "metadata": {
            "needs_background": "light"
          }
        }
      ]
    },
    {
      "cell_type": "markdown",
      "metadata": {
        "id": "s43_aS4ZHhPd"
      },
      "source": [
        "## 2-D component analysis\n",
        "\n",
        "Now, let's estimate  the principal  axes of this data. Imagine we're starting with the rotated data -- how can we separate out the original x and y axes?"
      ]
    },
    {
      "cell_type": "code",
      "metadata": {
        "id": "r9qer6AT3tMz"
      },
      "source": [
        "from sklearn.decomposition import PCA"
      ],
      "execution_count": null,
      "outputs": []
    },
    {
      "cell_type": "markdown",
      "metadata": {
        "id": "XBI-OVZa7u45"
      },
      "source": [
        "Here, we'll do the PCA decomposition.\n",
        "\n",
        "Remember  that our data was originally in the  shape `[dimension, sample]`. For PCA, we  need it in `[sample, dimension]`.\n",
        "\n",
        "Think of it like a list of observations. Each observation has 2 numbers associated with it (the coordinates).\n",
        "\n",
        "Here, you can explicitly specify `PCA(n_components=2)`, but it should automatically detect that 2 components works best."
      ]
    },
    {
      "cell_type": "code",
      "metadata": {
        "colab": {
          "base_uri": "https://localhost:8080/"
        },
        "id": "1ZMlHumh4G6V",
        "outputId": "978feca7-5647-4381-da49-09e47727a5cd"
      },
      "source": [
        "pca = PCA()\n",
        "pca.fit(rotated_data.T)"
      ],
      "execution_count": null,
      "outputs": [
        {
          "output_type": "execute_result",
          "data": {
            "text/plain": [
              "PCA(copy=True, iterated_power='auto', n_components=None, random_state=None,\n",
              "    svd_solver='auto', tol=0.0, whiten=False)"
            ]
          },
          "metadata": {},
          "execution_count": 15
        }
      ]
    },
    {
      "cell_type": "markdown",
      "metadata": {
        "id": "FxoNtzzk6m9a"
      },
      "source": [
        "That was easy!\n",
        "\n",
        "Now let's look at the components in their vector form, and  the amount of total variance each component  explains"
      ]
    },
    {
      "cell_type": "code",
      "metadata": {
        "colab": {
          "base_uri": "https://localhost:8080/"
        },
        "id": "mt7dPvmB4fdf",
        "outputId": "55625cd0-c01c-477f-e94a-a7b804906369"
      },
      "source": [
        "pca.components_"
      ],
      "execution_count": null,
      "outputs": [
        {
          "output_type": "execute_result",
          "data": {
            "text/plain": [
              "array([[ 0.53106818,  0.84732909],\n",
              "       [-0.84732909,  0.53106818]])"
            ]
          },
          "metadata": {},
          "execution_count": 16
        }
      ]
    },
    {
      "cell_type": "code",
      "metadata": {
        "colab": {
          "base_uri": "https://localhost:8080/"
        },
        "id": "kcqc_Jpk8KRy",
        "outputId": "79204654-edec-4ed4-ea45-4d70a9613f45"
      },
      "source": [
        "pca.explained_variance_ratio_"
      ],
      "execution_count": null,
      "outputs": [
        {
          "output_type": "execute_result",
          "data": {
            "text/plain": [
              "array([0.78010727, 0.21989273])"
            ]
          },
          "metadata": {},
          "execution_count": 17
        }
      ]
    },
    {
      "cell_type": "markdown",
      "metadata": {
        "id": "mJ5gcyvmIKY3"
      },
      "source": [
        "The PCA rotation matrix should be pretty similar to the inverse of the rotation  matrix (and should get closer with more samples!)"
      ]
    },
    {
      "cell_type": "code",
      "metadata": {
        "colab": {
          "base_uri": "https://localhost:8080/"
        },
        "id": "d8g8HCcLH_CZ",
        "outputId": "44a39b43-b312-44f4-d808-1f02856e7cc8"
      },
      "source": [
        "np.linalg.inv(rotation_matrix)"
      ],
      "execution_count": null,
      "outputs": [
        {
          "output_type": "execute_result",
          "data": {
            "text/plain": [
              "array([[ 0.5      ,  0.8660254],\n",
              "       [-0.8660254,  0.5      ]])"
            ]
          },
          "metadata": {},
          "execution_count": 18
        }
      ]
    },
    {
      "cell_type": "markdown",
      "metadata": {
        "id": "vBlQpAwv7aIH"
      },
      "source": [
        "Slight detour for a cell:\n",
        "\n",
        "Implicitly, we know that when you write down the component vectors as  in `pca.components_`, they start at the origin.\n",
        "\n",
        "To plot them, however, we're using the function `plt.scatter(x_data, y_data, ...)`,  so  we need to have the origin explicitly in the data. Let's make both component vectors start  at [0,0]."
      ]
    },
    {
      "cell_type": "code",
      "metadata": {
        "colab": {
          "base_uri": "https://localhost:8080/"
        },
        "id": "h3ZJh_3T7Yzj",
        "outputId": "ce7a467f-27df-4712-9406-58dde53e3306"
      },
      "source": [
        "pc1_vectors = np.array([\n",
        "                         [0,0], \n",
        "                         pca.components_[0]\n",
        "                        ])\n",
        "\n",
        "pc2_vectors = np.array([\n",
        "                         [0,0], \n",
        "                         pca.components_[1]\n",
        "                        ])\n",
        "\n",
        "# Now, you can see we have an array of [[x0, y0], [x1, y1]]\n",
        "pc1_vectors"
      ],
      "execution_count": null,
      "outputs": [
        {
          "output_type": "execute_result",
          "data": {
            "text/plain": [
              "array([[0.        , 0.        ],\n",
              "       [0.53106818, 0.84732909]])"
            ]
          },
          "metadata": {},
          "execution_count": 19
        }
      ]
    },
    {
      "cell_type": "markdown",
      "metadata": {
        "id": "133DvMDi8QDl"
      },
      "source": [
        "Let's visualize these components over our data. With enough samples, these should describe it pretty well.\n",
        "\n",
        "I've also shown in the legend the percentage of  total  variance each PC describes. Note which one is higher."
      ]
    },
    {
      "cell_type": "code",
      "metadata": {
        "colab": {
          "base_uri": "https://localhost:8080/",
          "height": 245
        },
        "id": "eiAypC2q4kT8",
        "outputId": "0350d92a-d41b-4404-d394-4b7cf9bf46d3"
      },
      "source": [
        "# To make the component lines longer, try multiplying by some scalar\n",
        "\n",
        "plt.plot(*pc1_vectors.T, color='orange', linewidth=3, \n",
        "         label=f'PC1 ({pca.explained_variance_ratio_[0]*100:.0f}% of var)')\n",
        "\n",
        "plt.plot(*pc2_vectors.T, color='green', linewidth=3, \n",
        "         label=f'PC2 ({pca.explained_variance_ratio_[1]*100:.0f}% of var)')\n",
        "\n",
        "plt.scatter(*rotated_data)\n",
        "plt.legend(loc='lower right')\n",
        "\n",
        "plt.xlabel('x')\n",
        "plt.ylabel('y')\n",
        "\n",
        "plt.gca().set_aspect('equal')\n",
        "plt.xlim(-5, 5)\n",
        "plt.ylim(-5, 5)"
      ],
      "execution_count": 1,
      "outputs": [
        {
          "output_type": "error",
          "ename": "NameError",
          "evalue": "ignored",
          "traceback": [
            "\u001b[0;31m---------------------------------------------------------------------------\u001b[0m",
            "\u001b[0;31mNameError\u001b[0m                                 Traceback (most recent call last)",
            "\u001b[0;32m<ipython-input-1-3df1b899e85c>\u001b[0m in \u001b[0;36m<module>\u001b[0;34m()\u001b[0m\n\u001b[1;32m      1\u001b[0m \u001b[0;31m# To make the component lines longer, try multiplying by some scalar\u001b[0m\u001b[0;34m\u001b[0m\u001b[0;34m\u001b[0m\u001b[0;34m\u001b[0m\u001b[0m\n\u001b[1;32m      2\u001b[0m \u001b[0;34m\u001b[0m\u001b[0m\n\u001b[0;32m----> 3\u001b[0;31m plt.plot(*pc1_vectors.T, color='orange', linewidth=3, \n\u001b[0m\u001b[1;32m      4\u001b[0m          label=f'PC1 ({pca.explained_variance_ratio_[0]*100:.0f}% of var)')\n\u001b[1;32m      5\u001b[0m \u001b[0;34m\u001b[0m\u001b[0m\n",
            "\u001b[0;31mNameError\u001b[0m: name 'plt' is not defined"
          ]
        }
      ]
    },
    {
      "cell_type": "markdown",
      "metadata": {
        "id": "fym1Fq_y5svP"
      },
      "source": [
        "Now, let's re-plot our data in PCA space. This should remove the rotation we added in.\n",
        "\n",
        "(Note that this might be reflected over one or  both axes from the initial data)"
      ]
    },
    {
      "cell_type": "code",
      "metadata": {
        "colab": {
          "base_uri": "https://localhost:8080/",
          "height": 297
        },
        "id": "TawshSeE5sJR",
        "outputId": "9fd96fd2-9435-4323-de0f-61ca611424ff"
      },
      "source": [
        "pca_data = pca.transform(rotated_data.T)\n",
        "\n",
        "plt.scatter(*pca_data.T)\n",
        "\n",
        "plt.xlabel('PC1')\n",
        "plt.ylabel('PC2')\n",
        "\n",
        "plt.gca().set_aspect('equal')\n",
        "plt.xlim(-5, 5)\n",
        "plt.ylim(-5, 5)"
      ],
      "execution_count": null,
      "outputs": [
        {
          "output_type": "execute_result",
          "data": {
            "text/plain": [
              "(-5.0, 5.0)"
            ]
          },
          "metadata": {},
          "execution_count": 27
        },
        {
          "output_type": "display_data",
          "data": {
            "image/png": "[encoded data removed]",
            "text/plain": [
              "<Figure size 432x288 with 1 Axes>"
            ]
          },
          "metadata": {
            "needs_background": "light"
          }
        }
      ]
    },
    {
      "cell_type": "code",
      "metadata": {
        "id": "VbvnAaJaBtbd"
      },
      "source": [
        ""
      ],
      "execution_count": null,
      "outputs": []
    },
    {
      "cell_type": "code",
      "metadata": {
        "id": "xREShy1TKgsW"
      },
      "source": [
        "# Non-linear dimensionality reduction ... and on to ML (Jeremy)"
      ],
      "execution_count": null,
      "outputs": []
    },
    {
      "cell_type": "code",
      "metadata": {
        "id": "a1-HCO5XNg09"
      },
      "source": [
        "# where to fit into exacloud?  First class or not?  Nick?"
      ],
      "execution_count": null,
      "outputs": []
    }
  ]
}
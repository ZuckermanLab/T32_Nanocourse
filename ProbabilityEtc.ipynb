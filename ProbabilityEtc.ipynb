{
  "nbformat": 4,
  "nbformat_minor": 0,
  "metadata": {
    "colab": {
      "name": "ProbabilityEtc.ipynb",
      "provenance": [],
      "collapsed_sections": [],
      "toc_visible": true,
      "include_colab_link": true
    },
    "kernelspec": {
      "name": "python3",
      "display_name": "Python 3"
    },
    "language_info": {
      "name": "python"
    }
  },
  "cells": [
    {
      "cell_type": "markdown",
      "metadata": {
        "id": "view-in-github",
        "colab_type": "text"
      },
      "source": [
        "<a href=\"https://colab.research.google.com/github/ZuckermanLab/T32_Nanocourse/blob/main/ProbabilityEtc.ipynb\" target=\"_parent\"><img src=\"https://colab.research.google.com/assets/colab-badge.svg\" alt=\"Open In Colab\"/></a>"
      ]
    },
    {
      "cell_type": "code",
      "metadata": {
        "colab": {
          "base_uri": "https://localhost:8080/"
        },
        "id": "ooim-BFkrwRZ",
        "outputId": "ff8f62f8-721b-4bea-9acd-fd82254e3351"
      },
      "source": [
        "a = 4\n",
        "b = 5\n",
        "c = 6\n",
        "print(a,b,c)"
      ],
      "execution_count": null,
      "outputs": [
        {
          "output_type": "stream",
          "name": "stdout",
          "text": [
            "4 5 6\n"
          ]
        }
      ]
    },
    {
      "cell_type": "markdown",
      "metadata": {
        "id": "F6nqwry7P77i"
      },
      "source": [
        ""
      ]
    },
    {
      "cell_type": "code",
      "metadata": {
        "colab": {
          "base_uri": "https://localhost:8080/"
        },
        "id": "UUxGydAKtoxc",
        "outputId": "12e8d19f-9e3c-4792-ffcb-bc473ad01595"
      },
      "source": [
        "# do some math\n",
        "f = b * c\n",
        "print(f)"
      ],
      "execution_count": null,
      "outputs": [
        {
          "output_type": "stream",
          "name": "stdout",
          "text": [
            "30\n"
          ]
        }
      ]
    },
    {
      "cell_type": "code",
      "metadata": {
        "colab": {
          "base_uri": "https://localhost:8080/"
        },
        "id": "O0imlMQLsLDJ",
        "outputId": "389eaab9-2c8d-44ec-8d86-3be2aa48488b"
      },
      "source": [
        "print(f\"a = {a}    b = {b}    c = {c}\")  # The f enables printing values within a (quoted) string\n",
        "print(a, \"\\n\", b, \"\\n\", c)  # lots of ways to print things - \"\\n\" is new line 'character'"
      ],
      "execution_count": null,
      "outputs": [
        {
          "output_type": "stream",
          "name": "stdout",
          "text": [
            "a = 4    b = 5    c = 6\n",
            "4 \n",
            " 5 \n",
            " 6\n"
          ]
        }
      ]
    },
    {
      "cell_type": "code",
      "metadata": {
        "id": "OInfWCdAtEc9"
      },
      "source": [
        "a = 7"
      ],
      "execution_count": null,
      "outputs": []
    },
    {
      "cell_type": "code",
      "metadata": {
        "colab": {
          "base_uri": "https://localhost:8080/"
        },
        "id": "D1aguln2tOLZ",
        "outputId": "5eefc96e-8049-4a5e-e742-5bfbf65725ad"
      },
      "source": [
        "# ORDER MATTERS IN PYTHON NOTEBOOKS - BE CAREFUL!\n",
        "print(a)\n",
        "# re-run first definition of a above and print again"
      ],
      "execution_count": null,
      "outputs": [
        {
          "output_type": "stream",
          "name": "stdout",
          "text": [
            "4\n"
          ]
        }
      ]
    },
    {
      "cell_type": "code",
      "metadata": {
        "colab": {
          "base_uri": "https://localhost:8080/"
        },
        "id": "kaYpRO3wvKHH",
        "outputId": "776a94d0-c37d-46f3-9fbc-04d3f0309f79"
      },
      "source": [
        "# LISTS AND LOOPS ARE KEY ELEMENTS OF PYTHON COMPUTING AND DATA ANALYSIS\n",
        "instructors = [\"Olga\", \"Nick\", \"Luke\", \"John\", \"Dan\", \"Jeremy\"]  # a list of strings\n",
        "quant = len(instructors)  # number of elements in the list\n",
        "print(f\"There are {quant} instructors:\")\n",
        "for teacher in instructors:  # The colon \":\" here indicates the following line(s) depend on this line\n",
        "  print(teacher)  # ALL INDENTED LINES DEPEND ON ALL PREVIOUS NON-INDENTED LINES"
      ],
      "execution_count": null,
      "outputs": [
        {
          "output_type": "stream",
          "name": "stdout",
          "text": [
            "There are 6 instructors:\n",
            "Olga\n",
            "Nick\n",
            "Luke\n",
            "John\n",
            "Dan\n",
            "Jeremy\n"
          ]
        }
      ]
    },
    {
      "cell_type": "code",
      "metadata": {
        "colab": {
          "base_uri": "https://localhost:8080/"
        },
        "id": "QFdR2Sfx67VL",
        "outputId": "f351869d-33cd-46c9-fa68-21383c12706f"
      },
      "source": [
        "from random import *  # we often want to use a library of functions that is not part of basic python\n",
        "max = 20\n",
        "rand_list = []  # blank list to start\n",
        "count = 0\n",
        "while (count < max):\n",
        "  count = count + 1\n",
        "  rand_list.append( random() )  # random with empty argument \"()\" gives a number between 0 and 1\n",
        "print(f\"We obtained {len(rand_list)} elements\")\n",
        "print(rand_list)"
      ],
      "execution_count": null,
      "outputs": [
        {
          "output_type": "stream",
          "name": "stdout",
          "text": [
            "We obtained 20 elements\n",
            "[0.647952779256079, 0.8794726324657679, 0.6441389780861981, 0.10949585147956709, 0.4427524915668536, 0.5306515634878576, 0.301193699590496, 0.18520728986763102, 0.7045586730732879, 0.36177800215749256, 0.25060694254164817, 0.4438421639190452, 0.2431633403863973, 0.8397820191263041, 0.9609621204638582, 0.005922235589110314, 0.9216266348276202, 0.32042895624321666, 0.10461361534874003, 0.6209059927212612]\n"
          ]
        }
      ]
    },
    {
      "cell_type": "code",
      "metadata": {
        "colab": {
          "base_uri": "https://localhost:8080/"
        },
        "id": "UfwO94kW-5_z",
        "outputId": "3335fd12-ebeb-4c06-e912-5933121208a9"
      },
      "source": [
        "# Make a new list by doing some math on every element of a list\n",
        "squaredvals = []  # empty list\n",
        "for number in rand_list:\n",
        "  squared = number**2\n",
        "  squaredvals.append( squared )\n",
        "  print(number, squared)   # good to print things to check program is performing correctly"
      ],
      "execution_count": null,
      "outputs": [
        {
          "output_type": "stream",
          "name": "stdout",
          "text": [
            "0.647952779256079 0.419842804145677\n",
            "0.8794726324657679 0.7734721112562677\n",
            "0.6441389780861981 0.4149150230899316\n",
            "0.10949585147956709 0.011989341491235414\n",
            "0.4427524915668536 0.19602976878865677\n",
            "0.5306515634878576 0.28159108183210774\n",
            "0.301193699590496 0.09071764467300997\n",
            "0.18520728986763102 0.0343017402201127\n",
            "0.7045586730732879 0.49640292380279216\n",
            "0.36177800215749256 0.13088332284506668\n",
            "0.25060694254164817 0.06280383965007295\n",
            "0.4438421639190452 0.19699586647234058\n",
            "0.2431633403863973 0.05912841010787092\n",
            "0.8397820191263041 0.7052338396478522\n",
            "0.9609621204638582 0.9234481969663947\n",
            "0.005922235589110314 3.507287437292479e-05\n",
            "0.9216266348276202 0.8493956540236836\n",
            "0.32042895624321666 0.10267471599911726\n",
            "0.10461361534874003 0.010944008516334135\n",
            "0.6209059927212612 0.3855242517971749\n"
          ]
        }
      ]
    },
    {
      "cell_type": "code",
      "metadata": {
        "colab": {
          "base_uri": "https://localhost:8080/"
        },
        "id": "_X9_FOwuvSUF",
        "outputId": "33f09d12-f52f-4dde-870d-d8cda480db03"
      },
      "source": [
        "# NUMERICAL PYTHON - NUMPY\n",
        "# Every mathematical operation has a better implementation in numpy - faster, less memory\n",
        "import numpy as np  # we can make our own abbreviation - np is typical\n",
        "count = 20\n",
        "array_rand = np.random.rand(count)  # a single command accomplishes same as our loop above\n",
        "# Note this is an ARRAY, not a list.  Arrays can be very complex objects - e.g., like matrices.\n",
        "print( array_rand )\n",
        "sq_array = array_rand**2.0  # a single command does the same operation on ALL elements\n",
        "print ( sq_array )"
      ],
      "execution_count": null,
      "outputs": [
        {
          "output_type": "stream",
          "name": "stdout",
          "text": [
            "[0.21982915 0.63107347 0.07664379 0.38494985 0.74813896 0.8769229\n",
            " 0.13280225 0.53016344 0.75628401 0.42007775 0.86285502 0.69032536\n",
            " 0.07255305 0.16658637 0.32574752 0.49440787 0.66354145 0.50925832\n",
            " 0.22512038 0.79296787]\n",
            "[0.04832485 0.39825373 0.00587427 0.14818638 0.5597119  0.76899378\n",
            " 0.01763644 0.28107327 0.5719655  0.17646531 0.74451878 0.4765491\n",
            " 0.00526394 0.02775102 0.10611145 0.24443914 0.44028726 0.25934403\n",
            " 0.05067918 0.62879805]\n"
          ]
        }
      ]
    },
    {
      "cell_type": "code",
      "metadata": {
        "id": "lCKhwJqEBTVF",
        "colab": {
          "base_uri": "https://localhost:8080/"
        },
        "outputId": "d312b0a2-e8ee-494b-bcbf-a6c3954e7747"
      },
      "source": [
        "# turn it into a function\n",
        "def square_this_array( input_array ):\n",
        "  return input_array**2.0\n",
        "print( array_rand )\n",
        "array2 = square_this_array( array_rand )\n",
        "print( array2 )\n"
      ],
      "execution_count": null,
      "outputs": [
        {
          "output_type": "stream",
          "name": "stdout",
          "text": [
            "[0.21982915 0.63107347 0.07664379 0.38494985 0.74813896 0.8769229\n",
            " 0.13280225 0.53016344 0.75628401 0.42007775 0.86285502 0.69032536\n",
            " 0.07255305 0.16658637 0.32574752 0.49440787 0.66354145 0.50925832\n",
            " 0.22512038 0.79296787]\n",
            "[0.04832485 0.39825373 0.00587427 0.14818638 0.5597119  0.76899378\n",
            " 0.01763644 0.28107327 0.5719655  0.17646531 0.74451878 0.4765491\n",
            " 0.00526394 0.02775102 0.10611145 0.24443914 0.44028726 0.25934403\n",
            " 0.05067918 0.62879805]\n"
          ]
        }
      ]
    },
    {
      "cell_type": "markdown",
      "metadata": {
        "id": "qClfrDJn9hj5"
      },
      "source": [
        "NUMBER ONE THING TO KNOW ABOUT PYTHON - \n",
        "WHATEVER YOU WANT TO DO, IT'S SAFE TO ASSUME SOMEONE HAS DONE IT BEFORE ...\n",
        "SO GOOGLE IT.  Finding the precise thing you want may take some rephrasing of your search, or tweaking exisiting code.  But\n",
        "DON'T BE AFRAID TO EXPERIMENT - IT'S JUST CODE!"
      ]
    },
    {
      "cell_type": "code",
      "metadata": {
        "colab": {
          "base_uri": "https://localhost:8080/",
          "height": 265
        },
        "id": "hugdhJcPN1N1",
        "outputId": "783e5c4c-8713-4a67-ee3f-a59c794ff239"
      },
      "source": [
        "# Probability distributions in one dimension (1D)\n",
        "# Bin size matters!!\n",
        "import matplotlib.pyplot as plt\n",
        "u5 = plt.hist(array_rand, bins = 5)\n",
        "u10 = plt.hist(array_rand, bins = 10)"
      ],
      "execution_count": null,
      "outputs": [
        {
          "output_type": "display_data",
          "data": {
            "image/png": "[encoded data removed]",
            "text/plain": [
              "<Figure size 432x288 with 1 Axes>"
            ]
          },
          "metadata": {
            "needs_background": "light"
          }
        }
      ]
    },
    {
      "cell_type": "code",
      "metadata": {
        "colab": {
          "base_uri": "https://localhost:8080/",
          "height": 265
        },
        "id": "zvaW0VqJks8n",
        "outputId": "409348c5-99a0-4140-b4b8-d964c2207860"
      },
      "source": [
        "# Make plots a little easier to understand\n",
        "u5 = plt.hist(array_rand, bins = 5)\n",
        "u10 = plt.hist(array_rand, bins = 10, alpha=0.5)  # alpha is transparency parameter"
      ],
      "execution_count": null,
      "outputs": [
        {
          "output_type": "display_data",
          "data": {
            "image/png": "[encoded data removed]",
            "text/plain": [
              "<Figure size 432x288 with 1 Axes>"
            ]
          },
          "metadata": {
            "needs_background": "light"
          }
        }
      ]
    },
    {
      "cell_type": "code",
      "metadata": {
        "colab": {
          "base_uri": "https://localhost:8080/",
          "height": 265
        },
        "id": "YlDcvrqaQFXy",
        "outputId": "815325ba-fdb0-4055-a03a-c435bb391ff6"
      },
      "source": [
        "# Better use a density!\n",
        "# DEFINE\n",
        "nbin = 5\n",
        "u5_norm = plt.hist(array_rand, bins = nbin, density=True)\n",
        "nbin = 10\n",
        "u10_norm = plt.hist(array_rand, bins = nbin, density=True)\n",
        "plt.show(u5_norm, u10_norm)\n",
        "# How to 'reality check' a density?  Guesstimate the area"
      ],
      "execution_count": null,
      "outputs": [
        {
          "output_type": "display_data",
          "data": {
            "image/png": "[encoded data removed]",
            "text/plain": [
              "<Figure size 432x288 with 1 Axes>"
            ]
          },
          "metadata": {
            "needs_background": "light"
          }
        }
      ]
    },
    {
      "cell_type": "code",
      "metadata": {
        "colab": {
          "base_uri": "https://localhost:8080/",
          "height": 265
        },
        "id": "moH0oFklRJ1G",
        "outputId": "28c6c637-114c-4623-f9d4-4d5af10dfab7"
      },
      "source": [
        "# Noise and sampling - Less data, less idea what's going on\n",
        "# Noisy data could support different hypotheses!\n",
        "# Let's examine effects of having more data\n",
        "def make_array_rand_plot( count ):  # function to make histogram\n",
        "  tmp_array = np.random.rand(count)  # compare to code above\n",
        "  return plt.hist(tmp_array, density=True)\n",
        "unorm_20 = make_array_rand_plot( 20 )\n",
        "unorm_200 = make_array_rand_plot( 200 )\n",
        "unorm_2000 = make_array_rand_plot( 2000 )\n",
        "plt.show()\n",
        "# Run cell multiple times to see range of outcomes (due to random noise)"
      ],
      "execution_count": null,
      "outputs": [
        {
          "output_type": "display_data",
          "data": {
            "image/png": "[encoded data removed]",
            "text/plain": [
              "<Figure size 432x288 with 1 Axes>"
            ]
          },
          "metadata": {
            "needs_background": "light"
          }
        }
      ]
    },
    {
      "cell_type": "markdown",
      "metadata": {
        "id": "2AkbZGBRVuUu"
      },
      "source": [
        ""
      ]
    },
    {
      "cell_type": "code",
      "metadata": {
        "colab": {
          "base_uri": "https://localhost:8080/",
          "height": 265
        },
        "id": "t0h1g9fKUYZu",
        "outputId": "8a5893c4-96d7-4da7-bec9-e7307d1fd922"
      },
      "source": [
        "# The difference between variance and uncertainty\n",
        "# Variance - often measured by standard deviation - tells us the \n",
        "# amount of variability expected among samples from a distribution\n",
        "# (e.g., from repeated runs of an experiment)\n",
        "# Uncertainty, on the other hand, tells us the precision with\n",
        "# which we know a certain value.  If we have made many measurements,\n",
        "# the uncertainty can be *much* smaller than the standard deviation.\n",
        "# How many replicates is enough?  That depends on the question you\n",
        "# want to answer.  For example, it's easy to distinguish the average\n",
        "# height of adults from those of pre-school children, but distinguishing\n",
        "# the average heights of 13 vs. 14-year-olds would require many measurements.\n",
        "mu1 = 10.0\n",
        "sigma1 = 1.0\n",
        "data1 = np.random.randn(1000) * sigma1 + mu1\n",
        "plt.hist(data1, density=True)\n",
        "mu2 = 0.25\n",
        "sigma2 = 0.25\n",
        "data2 = np.random.randn(10) * sigma2 + mu2\n",
        "plt.hist(data2, density=True)\n",
        "plt.show()\n",
        "# We can have a very precise estimate of the mean of a data set with large variance\n",
        "# We might have a poor estimate of the mean of a low-variance data set - 'poor'\n",
        "# in the sense that we cannot be confident the mean is positive in this case."
      ],
      "execution_count": null,
      "outputs": [
        {
          "output_type": "display_data",
          "data": {
            "image/png": "[encoded data removed]",
            "text/plain": [
              "<Figure size 432x288 with 1 Axes>"
            ]
          },
          "metadata": {
            "needs_background": "light"
          }
        }
      ]
    },
    {
      "cell_type": "markdown",
      "metadata": {
        "id": "3LoRHY6qBzLg"
      },
      "source": [
        "# Visualizing distributions"
      ]
    },
    {
      "cell_type": "code",
      "metadata": {
        "id": "u0mbdaH1J-m0"
      },
      "source": [
        "# 2D distributions and visualizations (John)\n",
        "# contour plots, heat maps\n",
        "# comparing 2D densities via heat map"
      ],
      "execution_count": null,
      "outputs": []
    },
    {
      "cell_type": "code",
      "metadata": {
        "id": "PCPSG9hUKOot"
      },
      "source": [
        "# Marginalizing/projecting: 2D -> 1D (John)"
      ],
      "execution_count": null,
      "outputs": []
    },
    {
      "cell_type": "code",
      "metadata": {
        "id": "IXVCedncKY12"
      },
      "source": [
        "# Dimensionality reduction (John)\n",
        "# PCA"
      ],
      "execution_count": null,
      "outputs": []
    },
    {
      "cell_type": "code",
      "metadata": {
        "id": "7DVmvV8jznWM"
      },
      "source": [
        "import numpy as np\n",
        "from  matplotlib import  pyplot as plt\n",
        "from sklearn.decomposition import PCA"
      ],
      "execution_count": null,
      "outputs": []
    },
    {
      "cell_type": "markdown",
      "metadata": {
        "id": "eP-hp1XAzpOk"
      },
      "source": [
        "## Make some sample data\n",
        "\n",
        "Let's make some sample data, and plot it in a few  different ways."
      ]
    },
    {
      "cell_type": "code",
      "metadata": {
        "id": "SJKQg9pGzqm5"
      },
      "source": [
        "sample_size  = 100000\n",
        "\n",
        "x_data = np.random.normal(loc=5, scale=1, size=sample_size)\n",
        "y_data = np.random.normal(loc=5, scale=.5, size=sample_size)"
      ],
      "execution_count": null,
      "outputs": []
    },
    {
      "cell_type": "code",
      "metadata": {
        "colab": {
          "base_uri": "https://localhost:8080/",
          "height": 287
        },
        "id": "OraWzEa3z2TT",
        "outputId": "615fbfc6-486e-42ea-8c0c-7c177672156d"
      },
      "source": [
        "# First, the scatter plot of course. I set the aspect ratio equal so you can see\n",
        "#   this is an ellipsoidal distribution of data\n",
        "\n",
        "plt.scatter(x_data, y_data)\n",
        "\n",
        "plt.gca().set_aspect('equal')\n",
        "plt.xlim(0, 10)\n",
        "plt.ylim(0, 10)"
      ],
      "execution_count": null,
      "outputs": [
        {
          "output_type": "execute_result",
          "data": {
            "text/plain": [
              "(0.0, 10.0)"
            ]
          },
          "metadata": {},
          "execution_count": 41
        },
        {
          "output_type": "display_data",
          "data": {
            "image/png": "[encoded data removed]",
            "text/plain": [
              "<Figure size 432x288 with 1 Axes>"
            ]
          },
          "metadata": {
            "needs_background": "light"
          }
        }
      ]
    },
    {
      "cell_type": "code",
      "metadata": {
        "colab": {
          "base_uri": "https://localhost:8080/",
          "height": 283
        },
        "id": "H7RuMW2kDRfa",
        "outputId": "9b81dc31-5d15-4d27-97c3-dd6271054ca0"
      },
      "source": [
        "# Because if I don't, the auto-scaling might make you think it's circular!\n",
        "\n",
        "plt.scatter(x_data, y_data)"
      ],
      "execution_count": null,
      "outputs": [
        {
          "output_type": "execute_result",
          "data": {
            "text/plain": [
              "<matplotlib.collections.PathCollection at 0x7f10b7cd1790>"
            ]
          },
          "metadata": {},
          "execution_count": 42
        },
        {
          "output_type": "display_data",
          "data": {
            "image/png": "[encoded data removed]",
            "text/plain": [
              "<Figure size 432x288 with 1 Axes>"
            ]
          },
          "metadata": {
            "needs_background": "light"
          }
        }
      ]
    },
    {
      "cell_type": "code",
      "metadata": {
        "colab": {
          "base_uri": "https://localhost:8080/",
          "height": 287
        },
        "id": "zgDaGAkVz3lP",
        "outputId": "6e634335-f263-4fa5-f11e-1a95ed2fa5f7"
      },
      "source": [
        "# Do a 2-D histogram. Here, try adjusting the number of bins and see how\n",
        "# that affects the resolution of the histogram.\n",
        "\n",
        "#  This returns \n",
        "counts,  x_bins, y_bins, _ = plt.hist2d(x_data, y_data, bins=20)\n",
        "\n",
        "plt.colorbar()\n",
        "plt.gca().set_aspect('equal')\n",
        "plt.xlim(0, 10)\n",
        "plt.ylim(0, 10)"
      ],
      "execution_count": null,
      "outputs": [
        {
          "output_type": "execute_result",
          "data": {
            "text/plain": [
              "(0.0, 10.0)"
            ]
          },
          "metadata": {},
          "execution_count": 43
        },
        {
          "output_type": "display_data",
          "data": {
            "image/png": "[encoded data removed]",
            "text/plain": [
              "<Figure size 432x288 with 2 Axes>"
            ]
          },
          "metadata": {
            "needs_background": "light"
          }
        }
      ]
    },
    {
      "cell_type": "code",
      "metadata": {
        "colab": {
          "base_uri": "https://localhost:8080/",
          "height": 287
        },
        "id": "e5THLqw_0QPL",
        "outputId": "9184b648-728f-495c-9003-19965d02f2bf"
      },
      "source": [
        "# And a contour plot. Here, try playing with the levels the contours are plotted\n",
        "# at, or try omitting that argument entirely.\n",
        "\n",
        "plt.contour(x_bins[:-1], y_bins[:-1], \n",
        "            counts/counts.max(), \n",
        "            levels=[0.05, 0.1, 0.25, 0.68, 0.95, 0.99])\n",
        "\n",
        "plt.colorbar()\n",
        "plt.gca().set_aspect('equal')\n",
        "plt.xlim(0, 10)\n",
        "plt.ylim(0, 10)"
      ],
      "execution_count": null,
      "outputs": [
        {
          "output_type": "execute_result",
          "data": {
            "text/plain": [
              "(0.0, 10.0)"
            ]
          },
          "metadata": {},
          "execution_count": 44
        },
        {
          "output_type": "display_data",
          "data": {
            "image/png": "[encoded data removed]",
            "text/plain": [
              "<Figure size 432x288 with 2 Axes>"
            ]
          },
          "metadata": {
            "needs_background": "light"
          }
        }
      ]
    },
    {
      "cell_type": "markdown",
      "metadata": {
        "id": "GjVBaFy9Fbjr"
      },
      "source": [
        "#  Projecting a distribution into  lower-dimensional space"
      ]
    },
    {
      "cell_type": "markdown",
      "metadata": {
        "id": "I2LjJfT4FgUg"
      },
      "source": [
        "A common early step in data analysis is dimensionality reduction from whatever high-dimensional space your data might live in.\n",
        "\n",
        "For an example from the simulation world, say you're watching two molecules bind. From your simulation you have the full XYZ coordinates of every  atom in each molecule. But, maybe all you really  care about is the distance  between them. The first step of your analysis would involve a dimensionality reduction  from that full space of coordinates (3 * N_ATOMS coordinates), to a center of mass distance (3 coordinates)."
      ]
    },
    {
      "cell_type": "markdown",
      "metadata": {
        "id": "58mL-VcEGP0z"
      },
      "source": [
        "## Simple projection"
      ]
    },
    {
      "cell_type": "code",
      "metadata": {
        "id": "VKFqxeCIFgtg"
      },
      "source": [
        "sample_size  = 1000\n",
        "\n",
        "x_data_1 = np.random.normal(loc=3, scale=0.5, size=sample_size//2)\n",
        "x_data_2 = np.random.normal(loc=7, scale=0.5, size=sample_size//2)\n",
        "\n",
        "x_data = np.hstack([x_data_1, x_data_2])\n",
        "y_data = np.random.normal(loc=5, scale=1.5, size=sample_size)"
      ],
      "execution_count": null,
      "outputs": []
    },
    {
      "cell_type": "code",
      "metadata": {
        "colab": {
          "base_uri": "https://localhost:8080/",
          "height": 287
        },
        "id": "jaIMOH49Feud",
        "outputId": "8442c676-d07d-4271-d4c7-b609fa2b9dd5"
      },
      "source": [
        "plt.scatter(x_data, y_data)\n",
        "\n",
        "plt.gca().set_aspect('equal')\n",
        "plt.xlim(0, 10)\n",
        "plt.ylim(0, 10)"
      ],
      "execution_count": null,
      "outputs": [
        {
          "output_type": "execute_result",
          "data": {
            "text/plain": [
              "(0.0, 10.0)"
            ]
          },
          "metadata": {},
          "execution_count": 4
        },
        {
          "output_type": "display_data",
          "data": {
            "image/png": "[encoded data removed]",
            "text/plain": [
              "<Figure size 432x288 with 1 Axes>"
            ]
          },
          "metadata": {
            "needs_background": "light"
          }
        }
      ]
    },
    {
      "cell_type": "markdown",
      "metadata": {
        "id": "p5ZwPXGhFhDu"
      },
      "source": [
        "To project this to 1-dimension,  we can try projecting along either  the X coordinate or the Y coordinate.\n",
        "\n",
        "Let's do this by making a histogram, where we're taking our coordinate of interest, breaking it  up into bins, and then adding up counts in each bin."
      ]
    },
    {
      "cell_type": "code",
      "metadata": {
        "colab": {
          "base_uri": "https://localhost:8080/",
          "height": 299
        },
        "id": "0waTlawsFjZy",
        "outputId": "18eff07e-f53f-404b-958d-fb10f2efe3bd"
      },
      "source": [
        "fig, ax = plt.subplots(nrows=1, ncols=2, figsize=(12,4))\n",
        "\n",
        "ax[0].hist(x_data, bins=20)\n",
        "ax[0].set_title('Projection along  X')\n",
        "\n",
        "ax[1].hist(y_data, bins=20)\n",
        "ax[1].set_title('Projection along  Y')"
      ],
      "execution_count": null,
      "outputs": [
        {
          "output_type": "execute_result",
          "data": {
            "text/plain": [
              "Text(0.5, 1.0, 'Projection along  Y')"
            ]
          },
          "metadata": {},
          "execution_count": 5
        },
        {
          "output_type": "display_data",
          "data": {
            "image/png": "[encoded data removed]",
            "text/plain": [
              "<Figure size 864x288 with 2 Axes>"
            ]
          },
          "metadata": {
            "needs_background": "light"
          }
        }
      ]
    },
    {
      "cell_type": "markdown",
      "metadata": {
        "id": "Y9x5_o1fFjop"
      },
      "source": [
        "Clearly, these resolve different features of the distribution."
      ]
    },
    {
      "cell_type": "code",
      "metadata": {
        "colab": {
          "base_uri": "https://localhost:8080/"
        },
        "id": "SMDrM-3EFj9X",
        "outputId": "327b5bbc-5422-4368-ec57-560f39d326ce"
      },
      "source": [
        "pca = PCA()\n",
        "pca.fit(np.array([x_data, y_data]).T)"
      ],
      "execution_count": null,
      "outputs": [
        {
          "output_type": "execute_result",
          "data": {
            "text/plain": [
              "PCA(copy=True, iterated_power='auto', n_components=None, random_state=None,\n",
              "    svd_solver='auto', tol=0.0, whiten=False)"
            ]
          },
          "metadata": {},
          "execution_count": 9
        }
      ]
    },
    {
      "cell_type": "code",
      "metadata": {
        "colab": {
          "base_uri": "https://localhost:8080/"
        },
        "id": "ZdoD9eTQFkMm",
        "outputId": "a6c12f8c-3bea-4c24-a60b-e86f9eb06269"
      },
      "source": [
        "pca.components_"
      ],
      "execution_count": null,
      "outputs": [
        {
          "output_type": "execute_result",
          "data": {
            "text/plain": [
              "array([[-0.99989062, -0.01479044],\n",
              "       [-0.01479044,  0.99989062]])"
            ]
          },
          "metadata": {},
          "execution_count": 10
        }
      ]
    },
    {
      "cell_type": "markdown",
      "metadata": {
        "id": "wGJ19CuGGKO3"
      },
      "source": [
        "## PCA"
      ]
    },
    {
      "cell_type": "markdown",
      "metadata": {
        "id": "QQ5Mjn6u2ntH"
      },
      "source": [
        "### Preparing some sample data\n",
        "\n",
        "First, let's generate some data and rotate it.\n",
        "\n",
        "Pay attention to the shape of the data! There are some  subtleties with this that will become important. Right now, it's organized as `[dimension, sample]` -- in other words,  as `[[x_coord_1, x_coord_2, ...], [y_coord_1, y_coord_2, ...]]`, and NOT `[[x_coord_1, y_coord_1], [x_coord_2, y_coord_2], ...]`."
      ]
    },
    {
      "cell_type": "code",
      "metadata": {
        "colab": {
          "base_uri": "https://localhost:8080/"
        },
        "id": "reCfg5km3Cib",
        "outputId": "795d8d77-8ddd-4993-89ca-0f95c0319c02"
      },
      "source": [
        "sample_size = 500\n",
        "\n",
        "x_data = np.random.normal(loc=0, scale=1, size=sample_size)\n",
        "y_data = np.random.normal(loc=0, scale=.5, size=sample_size)\n",
        "\n",
        "data = np.array([x_data, y_data])\n",
        "data.shape"
      ],
      "execution_count": null,
      "outputs": [
        {
          "output_type": "execute_result",
          "data": {
            "text/plain": [
              "(2, 500)"
            ]
          },
          "metadata": {},
          "execution_count": 15
        }
      ]
    },
    {
      "cell_type": "markdown",
      "metadata": {
        "id": "xBaaLVCbHPwf"
      },
      "source": [
        "Quick note:\n",
        "\n",
        "The `*` operator \"unpacks\" an array-like into arguments.\n",
        "\n",
        "So,\n",
        "`plt.scatter(*[[x_coord_1, y_coord_1], [x_coord_2, y_coord_2], ...])` \n",
        " is just like doing \n",
        " `plt.scatter([x_coord_1, y_coord_1], [x_coord_2, y_coord_2], ...)`.\n",
        "You'll see this a lot in the context of matplotlib."
      ]
    },
    {
      "cell_type": "code",
      "metadata": {
        "colab": {
          "base_uri": "https://localhost:8080/",
          "height": 283
        },
        "id": "xAS6w7TZ3x__",
        "outputId": "2895a2fb-e8eb-46a7-c918-4ff7aeaf364b"
      },
      "source": [
        "plt.scatter(*data)\n",
        "\n",
        "plt.gca().set_aspect('equal')\n",
        "plt.xlim(-5, 5)\n",
        "plt.ylim(-5, 5)"
      ],
      "execution_count": null,
      "outputs": [
        {
          "output_type": "execute_result",
          "data": {
            "text/plain": [
              "(-5.0, 5.0)"
            ]
          },
          "metadata": {},
          "execution_count": 16
        },
        {
          "output_type": "display_data",
          "data": {
            "image/png": "[encoded data removed]",
            "text/plain": [
              "<Figure size 432x288 with 1 Axes>"
            ]
          },
          "metadata": {
            "needs_background": "light"
          }
        }
      ]
    },
    {
      "cell_type": "markdown",
      "metadata": {
        "id": "4KwDpIo7HYLj"
      },
      "source": [
        "Now let's rotate that data a little,  and plot that."
      ]
    },
    {
      "cell_type": "code",
      "metadata": {
        "id": "Llf4jTRE3Ei1"
      },
      "source": [
        "# Rotate by Pi/3 radians\n",
        "rotation_radians = np.pi/3\n",
        "\n",
        "# Build a rotation matrix, and use it to rotate our coords about the origin\n",
        "rotation_matrix = np.array([[\n",
        "                            np.cos(rotation_radians), -np.sin(rotation_radians)],\n",
        "                            [np.sin(rotation_radians), np.cos(rotation_radians)]\n",
        "])\n",
        "rotated_data = rotation_matrix @ data"
      ],
      "execution_count": null,
      "outputs": []
    },
    {
      "cell_type": "code",
      "metadata": {
        "colab": {
          "base_uri": "https://localhost:8080/",
          "height": 283
        },
        "id": "iPraEXn93cVt",
        "outputId": "f148ca8e-bf18-4e3b-e5ff-8c47296778ca"
      },
      "source": [
        "plt.scatter(*rotated_data)\n",
        "\n",
        "plt.gca().set_aspect('equal')\n",
        "plt.xlim(-5, 5)\n",
        "plt.ylim(-5, 5)"
      ],
      "execution_count": null,
      "outputs": [
        {
          "output_type": "execute_result",
          "data": {
            "text/plain": [
              "(-5.0, 5.0)"
            ]
          },
          "metadata": {},
          "execution_count": 18
        },
        {
          "output_type": "display_data",
          "data": {
            "image/png": "[encoded data removed]",
            "text/plain": [
              "<Figure size 432x288 with 1 Axes>"
            ]
          },
          "metadata": {
            "needs_background": "light"
          }
        }
      ]
    },
    {
      "cell_type": "markdown",
      "metadata": {
        "id": "s43_aS4ZHhPd"
      },
      "source": [
        "### 2-D component analysis\n",
        "\n",
        "Now, let's estimate  the principal  axes of this data. Imagine we're starting with the rotated data -- how can we separate out the original x and y axes?"
      ]
    },
    {
      "cell_type": "code",
      "metadata": {
        "id": "r9qer6AT3tMz"
      },
      "source": [
        "from sklearn.decomposition import PCA"
      ],
      "execution_count": null,
      "outputs": []
    },
    {
      "cell_type": "markdown",
      "metadata": {
        "id": "XBI-OVZa7u45"
      },
      "source": [
        "Here, we'll do the PCA decomposition.\n",
        "\n",
        "Remember  that our data was originally in the  shape `[dimension, sample]`. For PCA, we  need it in `[sample, dimension]`.\n",
        "\n",
        "Think of it like a list of observations. Each observation has 2 numbers associated with it (the coordinates).\n",
        "\n",
        "Here, you can explicitly specify `PCA(n_components=2)`, but it should automatically detect that 2 components works best."
      ]
    },
    {
      "cell_type": "code",
      "metadata": {
        "colab": {
          "base_uri": "https://localhost:8080/"
        },
        "id": "1ZMlHumh4G6V",
        "outputId": "1f8a6f13-c8cf-4f75-bac5-633ad300b53d"
      },
      "source": [
        "pca = PCA()\n",
        "pca.fit(rotated_data.T)"
      ],
      "execution_count": null,
      "outputs": [
        {
          "output_type": "execute_result",
          "data": {
            "text/plain": [
              "PCA(copy=True, iterated_power='auto', n_components=None, random_state=None,\n",
              "    svd_solver='auto', tol=0.0, whiten=False)"
            ]
          },
          "metadata": {},
          "execution_count": 20
        }
      ]
    },
    {
      "cell_type": "markdown",
      "metadata": {
        "id": "FxoNtzzk6m9a"
      },
      "source": [
        "That was easy!\n",
        "\n",
        "Now let's look at the components in their vector form, and  the amount of total variance each component  explains"
      ]
    },
    {
      "cell_type": "code",
      "metadata": {
        "colab": {
          "base_uri": "https://localhost:8080/"
        },
        "id": "mt7dPvmB4fdf",
        "outputId": "a6fc88ce-b117-4bf0-fa05-5bc6213ee15f"
      },
      "source": [
        "pca.components_"
      ],
      "execution_count": null,
      "outputs": [
        {
          "output_type": "execute_result",
          "data": {
            "text/plain": [
              "array([[-0.52131959, -0.85336152],\n",
              "       [ 0.85336152, -0.52131959]])"
            ]
          },
          "metadata": {},
          "execution_count": 21
        }
      ]
    },
    {
      "cell_type": "code",
      "metadata": {
        "colab": {
          "base_uri": "https://localhost:8080/"
        },
        "id": "kcqc_Jpk8KRy",
        "outputId": "552441fd-f2d2-4586-f7fe-d746cbf28a80"
      },
      "source": [
        "pca.explained_variance_ratio_"
      ],
      "execution_count": null,
      "outputs": [
        {
          "output_type": "execute_result",
          "data": {
            "text/plain": [
              "array([0.80527226, 0.19472774])"
            ]
          },
          "metadata": {},
          "execution_count": 22
        }
      ]
    },
    {
      "cell_type": "markdown",
      "metadata": {
        "id": "mJ5gcyvmIKY3"
      },
      "source": [
        "The PCA rotation matrix should be pretty similar to the inverse of the rotation  matrix (and should get closer with more samples!)"
      ]
    },
    {
      "cell_type": "code",
      "metadata": {
        "colab": {
          "base_uri": "https://localhost:8080/"
        },
        "id": "d8g8HCcLH_CZ",
        "outputId": "f7907bc9-91f5-42de-94bb-4664b749d8ac"
      },
      "source": [
        "np.linalg.inv(rotation_matrix)"
      ],
      "execution_count": null,
      "outputs": [
        {
          "output_type": "execute_result",
          "data": {
            "text/plain": [
              "array([[ 0.5      ,  0.8660254],\n",
              "       [-0.8660254,  0.5      ]])"
            ]
          },
          "metadata": {},
          "execution_count": 23
        }
      ]
    },
    {
      "cell_type": "markdown",
      "metadata": {
        "id": "vBlQpAwv7aIH"
      },
      "source": [
        "Slight detour for a cell:\n",
        "\n",
        "Implicitly, we know that when you write down the component vectors as  in `pca.components_`, they start at the origin.\n",
        "\n",
        "To plot them, however, we're using the function `plt.scatter(x_data, y_data, ...)`,  so  we need to have the origin explicitly in the data. Let's make both component vectors start  at [0,0]."
      ]
    },
    {
      "cell_type": "code",
      "metadata": {
        "colab": {
          "base_uri": "https://localhost:8080/"
        },
        "id": "h3ZJh_3T7Yzj",
        "outputId": "9b7de6c1-12de-4c2c-89ad-a8eb12caee6c"
      },
      "source": [
        "pc1_vectors = np.array([\n",
        "                         [0,0], \n",
        "                         pca.components_[0]\n",
        "                        ])\n",
        "\n",
        "pc2_vectors = np.array([\n",
        "                         [0,0], \n",
        "                         pca.components_[1]\n",
        "                        ])\n",
        "\n",
        "# Now, you can see we have an array of [[x0, y0], [x1, y1]]\n",
        "pc1_vectors"
      ],
      "execution_count": null,
      "outputs": [
        {
          "output_type": "execute_result",
          "data": {
            "text/plain": [
              "array([[ 0.        ,  0.        ],\n",
              "       [-0.52131959, -0.85336152]])"
            ]
          },
          "metadata": {},
          "execution_count": 24
        }
      ]
    },
    {
      "cell_type": "markdown",
      "metadata": {
        "id": "133DvMDi8QDl"
      },
      "source": [
        "Let's visualize these components over our data. With enough samples, these should describe it pretty well.\n",
        "\n",
        "I've also shown in the legend the percentage of  total  variance each PC describes. Note which one is higher."
      ]
    },
    {
      "cell_type": "code",
      "metadata": {
        "colab": {
          "base_uri": "https://localhost:8080/",
          "height": 297
        },
        "id": "eiAypC2q4kT8",
        "outputId": "5036be5c-9730-4931-904e-8353450f8564"
      },
      "source": [
        "# To make the component lines longer, try multiplying by some scalar\n",
        "\n",
        "plt.plot(*pc1_vectors.T, color='orange', linewidth=3, \n",
        "         label=f'PC1 ({pca.explained_variance_ratio_[0]*100:.0f}% of var)')\n",
        "\n",
        "plt.plot(*pc2_vectors.T, color='red', linewidth=3, \n",
        "         label=f'PC2 ({pca.explained_variance_ratio_[1]*100:.0f}% of var)')\n",
        "\n",
        "plt.scatter(*rotated_data)\n",
        "plt.legend(loc='lower right')\n",
        "\n",
        "plt.xlabel('x')\n",
        "plt.ylabel('y')\n",
        "\n",
        "plt.gca().set_aspect('equal')\n",
        "plt.xlim(-5, 5)\n",
        "plt.ylim(-5, 5)"
      ],
      "execution_count": null,
      "outputs": [
        {
          "output_type": "execute_result",
          "data": {
            "text/plain": [
              "(-5.0, 5.0)"
            ]
          },
          "metadata": {},
          "execution_count": 26
        },
        {
          "output_type": "display_data",
          "data": {
            "image/png": "[encoded data removed]",
            "text/plain": [
              "<Figure size 432x288 with 1 Axes>"
            ]
          },
          "metadata": {
            "needs_background": "light"
          }
        }
      ]
    },
    {
      "cell_type": "markdown",
      "metadata": {
        "id": "fym1Fq_y5svP"
      },
      "source": [
        "Now, let's re-plot our data in PCA space. This should remove the rotation we added in.\n",
        "\n",
        "(Note that this might be reflected over one or  both axes from the initial data)"
      ]
    },
    {
      "cell_type": "code",
      "metadata": {
        "colab": {
          "base_uri": "https://localhost:8080/",
          "height": 297
        },
        "id": "TawshSeE5sJR",
        "outputId": "9fd96fd2-9435-4323-de0f-61ca611424ff"
      },
      "source": [
        "pca_data = pca.transform(rotated_data.T)\n",
        "\n",
        "plt.scatter(*pca_data.T)\n",
        "\n",
        "plt.xlabel('PC1')\n",
        "plt.ylabel('PC2')\n",
        "\n",
        "plt.gca().set_aspect('equal')\n",
        "plt.xlim(-5, 5)\n",
        "plt.ylim(-5, 5)"
      ],
      "execution_count": null,
      "outputs": [
        {
          "output_type": "execute_result",
          "data": {
            "text/plain": [
              "(-5.0, 5.0)"
            ]
          },
          "metadata": {},
          "execution_count": 27
        },
        {
          "output_type": "display_data",
          "data": {
            "image/png": "[encoded data removed]",
            "text/plain": [
              "<Figure size 432x288 with 1 Axes>"
            ]
          },
          "metadata": {
            "needs_background": "light"
          }
        }
      ]
    },
    {
      "cell_type": "markdown",
      "metadata": {
        "id": "vuh0yRXKGk_B"
      },
      "source": [
        "# Aside: Prettier plotting with Matplotlib"
      ]
    },
    {
      "cell_type": "markdown",
      "metadata": {
        "id": "kUUDMHahGqJG"
      },
      "source": [
        "I've used a few of matplotlib's different plotting/formatting options in the notebook up to here, but let me explicitly show a few more examples."
      ]
    },
    {
      "cell_type": "markdown",
      "metadata": {
        "id": "9E0mncaDHnB5"
      },
      "source": [
        "## Scatter plots and colormaps\n",
        "\n",
        "In addition to plotting points with a list of x values and a list of y values, you can also color them according to a \"z\" value, which goes in the `c` argument of `plt.scatter()`.\n",
        "\n",
        "Below, I plot the PCA-transformed data, colored by the x-coordinate in the original basis.**bold text**\n",
        "\n",
        "**NOTE:** Colormaps are not a unique concept to scatter plots. You can use them in line plots or contour plots as well, in the same way. I'm just demonstrating here with our same dataset."
      ]
    },
    {
      "cell_type": "code",
      "metadata": {
        "colab": {
          "base_uri": "https://localhost:8080/",
          "height": 297
        },
        "id": "QPhgLp1nH8kh",
        "outputId": "5782a215-c824-4830-cbc9-83e3469b09dd"
      },
      "source": [
        "pca_data = pca.transform(rotated_data.T)\n",
        "\n",
        "x_positions = rotated_data[1]\n",
        "plt.scatter(*pca_data.T, c=x_positions)\n",
        "\n",
        "plt.xlabel('PC1')\n",
        "plt.ylabel('PC2')\n",
        "\n",
        "plt.gca().set_aspect('equal')\n",
        "plt.xlim(-5, 5)\n",
        "plt.ylim(-5, 5)"
      ],
      "execution_count": null,
      "outputs": [
        {
          "output_type": "execute_result",
          "data": {
            "text/plain": [
              "(-5.0, 5.0)"
            ]
          },
          "metadata": {},
          "execution_count": 28
        },
        {
          "output_type": "display_data",
          "data": {
            "image/png": "[encoded data removed]",
            "text/plain": [
              "<Figure size 432x288 with 1 Axes>"
            ]
          },
          "metadata": {
            "needs_background": "light"
          }
        }
      ]
    },
    {
      "cell_type": "markdown",
      "metadata": {
        "id": "ThUDBQPBIGQI"
      },
      "source": [
        "Matplotlib specifies different 'colormaps' for this coloring. (It automatically normalizes your data, but you can set limits for the colormap range with `vmin` and `vmax`.\n",
        "\n",
        "The main thing to know about colormaps is there are a few types, which you can read about [in the matplotlib documentation](https://matplotlib.org/stable/tutorials/colors/colormaps.html#classes-of-colormaps).\n",
        "\n",
        "The type I probably use the most are \"diverging\", which have a visually distinct center point, and different colors in each direction out. I like 'seismic' in particular, which is white in the middle, red at one end, and blue at the other.\n",
        "\n",
        "We'll plot this same data with the colorbar shown. Note I assign the scatter plot object to a variable, and then pass that to the colorbar so the colorbar knows what colormap and range of values is being used."
      ]
    },
    {
      "cell_type": "code",
      "metadata": {
        "id": "pfU9kutzIT3X"
      },
      "source": [
        "from matplotlib import cm"
      ],
      "execution_count": null,
      "outputs": []
    },
    {
      "cell_type": "code",
      "metadata": {
        "colab": {
          "base_uri": "https://localhost:8080/",
          "height": 297
        },
        "id": "Ud-mtLsCIS-k",
        "outputId": "696b4502-5efe-454a-a6e8-5f0ebb9675c1"
      },
      "source": [
        "cmap = cm.get_cmap('seismic')\n",
        "\n",
        "pca_data = pca.transform(rotated_data.T)\n",
        "\n",
        "x_positions = rotated_data[1]\n",
        "sc = plt.scatter(*pca_data.T, c=x_positions, cmap=cmap)\n",
        "plt.colorbar(sc)\n",
        "\n",
        "plt.xlabel('PC1')\n",
        "plt.ylabel('PC2')\n",
        "\n",
        "plt.gca().set_aspect('equal')\n",
        "plt.xlim(-5, 5)\n",
        "plt.ylim(-5, 5)"
      ],
      "execution_count": null,
      "outputs": [
        {
          "output_type": "execute_result",
          "data": {
            "text/plain": [
              "(-5.0, 5.0)"
            ]
          },
          "metadata": {},
          "execution_count": 37
        },
        {
          "output_type": "display_data",
          "data": {
            "image/png": "[encoded data removed]",
            "text/plain": [
              "<Figure size 432x288 with 2 Axes>"
            ]
          },
          "metadata": {
            "needs_background": "light"
          }
        }
      ]
    },
    {
      "cell_type": "markdown",
      "metadata": {
        "id": "8sH9ba7OJjLs"
      },
      "source": [
        "You can see the colormap isn't centered -- our data isn't perfectly centered in x. By specifying vmin and vmax to be evenly spaced around 0, we can fix that."
      ]
    },
    {
      "cell_type": "code",
      "metadata": {
        "id": "VbvnAaJaBtbd",
        "colab": {
          "base_uri": "https://localhost:8080/",
          "height": 313
        },
        "outputId": "940f17ed-6015-4051-d900-658fe5fcbc57"
      },
      "source": [
        "cmap = cm.get_cmap('seismic')\n",
        "\n",
        "pca_data = pca.transform(rotated_data.T)\n",
        "\n",
        "x_positions = rotated_data[0]\n",
        "sc = plt.scatter(*pca_data.T, c=x_positions, cmap=cmap, vmin=-5, vmax=5)\n",
        "plt.colorbar(sc)\n",
        "\n",
        "plt.xlabel('PC1')\n",
        "plt.ylabel('PC2')\n",
        "\n",
        "plt.gca().set_aspect('equal')\n",
        "plt.xlim(-5, 5)\n",
        "plt.ylim(-5, 5)"
      ],
      "execution_count": null,
      "outputs": [
        {
          "output_type": "execute_result",
          "data": {
            "text/plain": [
              "(-5.0, 5.0)"
            ]
          },
          "metadata": {},
          "execution_count": 210
        },
        {
          "output_type": "display_data",
          "data": {
            "image/png": "[encoded data removed]",
            "text/plain": [
              "<Figure size 432x288 with 2 Axes>"
            ]
          },
          "metadata": {
            "needs_background": "light"
          }
        }
      ]
    },
    {
      "cell_type": "markdown",
      "metadata": {
        "id": "2Hnx-7nMKRPc"
      },
      "source": [
        "## Subplots, tick formatting, and shared axes\n",
        "\n",
        "Up to now, I've been using `plt.plot` to plot everything. This is sort of using a global instance of matplotlib.\n",
        "\n",
        "You can get a lot finer control over your plots by using `Figure` and `Axis` objects. A figure is like the whole plot you see, and can contain multiple sets of axes.\n",
        "\n",
        "Note that when we're working with axes objects, instead of the global `plt` instance, we have to use `axis.set_xlabel()` instead of `plt.xlabel()`. Most formatting commands follow that pattern."
      ]
    },
    {
      "cell_type": "code",
      "metadata": {
        "colab": {
          "base_uri": "https://localhost:8080/",
          "height": 424
        },
        "id": "jy8f5fM7KFsK",
        "outputId": "1cf4b4ae-e0dd-419f-9020-fb98bc8436c6"
      },
      "source": [
        "# Create a figure\n",
        "fig, axes = plt.subplots(ncols=2, nrows=1, figsize=(8,6))\n",
        "\n",
        "axes[0].scatter(*pca_data.T, c=x_positions, cmap=cmap, vmin=-5, vmax=5)\n",
        "axes[0].set_xlabel('PC 0')\n",
        "axes[0].set_ylabel('PC 1')\n",
        "axes[0].set_title(\"Data in PCA basis\", fontsize=24)\n",
        "\n",
        "\n",
        "sc = axes[1].scatter(*rotated_data, c=x_positions, cmap=cmap, vmin=-5, vmax=5, label='test')\n",
        "axes[1].set_xlabel('x', fontsize=18)\n",
        "axes[1].set_ylabel('y', fontsize=18)\n",
        "axes[1].set_xlim([-5, 5])\n",
        "axes[1].set_ylim([-5, 5])\n",
        "axes[1].set_title(\"Data in x/y basis\", fontsize=24, color='green')\n",
        "\n",
        "# Explicitly set some parameters for the ticks\n",
        "axes[1].set_xticks([-3, 0, 3])\n",
        "axes[1].set_yticks([-4, 0, 4])\n",
        "axes[1].tick_params(labelsize=18)\n",
        "\n",
        "\n",
        "# Colorbar must be created at the figure level\n",
        "fig.colorbar(sc)\n",
        "\n",
        "# This just condenses some of the padding around plots.\n",
        "# I throw this in often to help manage whitespace.\n",
        "fig.tight_layout()"
      ],
      "execution_count": null,
      "outputs": [
        {
          "output_type": "display_data",
          "data": {
            "image/png": "[encoded data removed]",
            "text/plain": [
              "<Figure size 576x432 with 3 Axes>"
            ]
          },
          "metadata": {
            "needs_background": "light"
          }
        }
      ]
    },
    {
      "cell_type": "markdown",
      "metadata": {
        "id": "VikSZMNkP65G"
      },
      "source": [
        "(That plot isn't meant to look pretty! Just an example of some of the things you can do.)"
      ]
    },
    {
      "cell_type": "markdown",
      "metadata": {
        "id": "Qe4QYnFrPNZv"
      },
      "source": [
        "Two final things about axes.\n",
        "\n",
        "Changing scales (i.e., from linear, to log, or matplotlib's \"symlog\" which is like log, but linear in a small range around 0)\n",
        "\n",
        "Matplotlib also makes it easy to use dual axes on one plot.\n",
        "\n",
        "Below, I demonstrate both of those, along with line styling (width and dashing)."
      ]
    },
    {
      "cell_type": "code",
      "metadata": {
        "colab": {
          "base_uri": "https://localhost:8080/",
          "height": 302
        },
        "id": "77X-Nto7QNPj",
        "outputId": "51a7591f-a3a5-4cd4-dcdc-0324a192776b"
      },
      "source": [
        "# Two plots on top of each other, which share their x axes\n",
        "# (Note the x-tick labels aren't duplicated)\n",
        "fig, ax = plt.subplots(nrows=2, ncols=1, sharex=True)\n",
        "\n",
        "x_values = np.arange(0,100)\n",
        "\n",
        "# Plot x^2 on the top plot\n",
        "ax[0].plot(x_values, x_values**2, linestyle='--', label=\"x^2\")\n",
        "\n",
        "\n",
        "# On the bottom, plot x^2 and x^3 on a shared x-axis.\n",
        "\n",
        "# You can use TeX in labels too!\n",
        "ax[1].plot(x_values, x_values**2, label=\"$x^2$\")\n",
        "# Make a new axis on the bottom plot that shares the x-axis\n",
        "ax1_twin = ax[1].twinx()\n",
        "ax1_twin.plot(x_values, x_values**3, linewidth=3, color='orange', label=\"x^3\")\n",
        "\n",
        "# By default, the legend will be weirdly sticking in the plot. \n",
        "# Let's put the upper-left corner of the legend at (100%, 95%)\n",
        "#   relative to the x-axis and y-axis respectively.\n",
        "fig.legend(loc='upper left', bbox_to_anchor=(1.0,0.95))\n",
        "\n",
        "# Make sure the legend isn't cut off by doing tight_layout\n",
        "# fig.tight_layout()"
      ],
      "execution_count": null,
      "outputs": [
        {
          "output_type": "execute_result",
          "data": {
            "text/plain": [
              "<matplotlib.legend.Legend at 0x7f9574086510>"
            ]
          },
          "metadata": {},
          "execution_count": 214
        },
        {
          "output_type": "display_data",
          "data": {
            "image/png": "[encoded data removed]",
            "text/plain": [
              "<Figure size 432x288 with 3 Axes>"
            ]
          },
          "metadata": {
            "needs_background": "light"
          }
        }
      ]
    },
    {
      "cell_type": "markdown",
      "metadata": {
        "id": "ODgBZhimTKSe"
      },
      "source": [
        "## Wrap-up\n",
        "\n",
        "Let's combine this all to make a pretty plot of our rotated data.\n"
      ]
    },
    {
      "cell_type": "code",
      "metadata": {
        "id": "ZNotR-1PT4os"
      },
      "source": [
        "import matplotlib as mpl"
      ],
      "execution_count": null,
      "outputs": []
    },
    {
      "cell_type": "code",
      "metadata": {
        "colab": {
          "base_uri": "https://localhost:8080/",
          "height": 423
        },
        "id": "ymx6ngoxTOr4",
        "outputId": "1bf5551e-df06-48e9-c5b3-0a293bcf476b"
      },
      "source": [
        "# Create a figure\n",
        "fig, axes = plt.subplots(ncols=3, nrows=1, figsize=(10,4.5),\n",
        "                         # Make a small column for the colorbar\n",
        "                         gridspec_kw={'width_ratios':[1,1,0.1]})\n",
        "\n",
        "# Globally set font used to 18 -- 'rc' sets global plot formatting options\n",
        "plt.rc('font', size=18)\n",
        "\n",
        "axis = axes[0]\n",
        "sc = axis.scatter(*rotated_data, c=x_positions, cmap=cmap, vmin=-5, vmax=5, label='test')\n",
        "axis.set_ylabel('y')\n",
        "axis.set_xlabel('x')\n",
        "axis.set_title(\"Data in x/y basis\")\n",
        "axis.set_aspect('equal')\n",
        "\n",
        "axis = axes[1]\n",
        "axis.scatter(*pca_data.T, c=x_positions, cmap=cmap, vmin=-5, vmax=5)\n",
        "axis.set_xlabel('PC 0')\n",
        "axis.set_ylabel('PC 1')\n",
        "axis.set_title(\"Data in PCA basis\")\n",
        "axis.set_aspect('equal')\n",
        "\n",
        "for axis in axes:\n",
        "  axis.set_xlim([-5, 5])\n",
        "  axis.set_ylim([-5, 5])\n",
        "\n",
        "  # Explicitly set some parameters for the ticks\n",
        "  axis.set_xticks([-3, 0, 3])\n",
        "  axis.set_yticks([-4, 0, 4])\n",
        "\n",
        "\n",
        "# Colorbar must be created at the figure level\n",
        "fig.colorbar(sc, cax=axes[2])\n",
        "\n",
        "# This just condenses some of the padding around plots.\n",
        "# I throw this in often to help manage whitespace.\n",
        "fig.tight_layout()\n",
        "\n",
        "# Change the resolution of the figure -- this interplays with figsize\n",
        "fig.set_dpi(100)"
      ],
      "execution_count": null,
      "outputs": [
        {
          "output_type": "display_data",
          "data": {
            "image/png": "[encoded data removed]",
            "text/plain": [
              "<Figure size 1000x450 with 3 Axes>"
            ]
          },
          "metadata": {
            "needs_background": "light"
          }
        }
      ]
    },
    {
      "cell_type": "markdown",
      "metadata": {
        "id": "TyJDIAGESUXq"
      },
      "source": [
        "## Further reference\n",
        "\n",
        "This really just scratches the surface of what you can do with Matplotlib -- the main idea is, you can basically do anything!\n",
        "\n",
        "For further reference, the Matplotlib documentation is a really good reference and also has lots of good examples and demo scripts.\n",
        "\n",
        "[Scatter plot documentation](https://matplotlib.org/stable/api/_as_gen/matplotlib.pyplot.scatter.html)\n",
        "\n",
        "[Line plot documentation](https://matplotlib.org/stable/api/_as_gen/matplotlib.pyplot.plot.html)\n",
        "\n",
        "[Various examples](https://matplotlib.org/stable/gallery/index.html)\n",
        "\n",
        "[Tutorials](https://matplotlib.org/stable/tutorials/index.html)\n",
        "\n",
        "(And that's just from their official website!)"
      ]
    },
    {
      "cell_type": "code",
      "metadata": {
        "id": "xREShy1TKgsW"
      },
      "source": [
        "# Non-linear dimensionality reduction ... and on to ML (Jeremy)"
      ],
      "execution_count": null,
      "outputs": []
    },
    {
      "cell_type": "code",
      "metadata": {
        "id": "a1-HCO5XNg09"
      },
      "source": [
        "# where to fit into exacloud?  First class or not?  Nick?"
      ],
      "execution_count": null,
      "outputs": []
    }
  ]
}